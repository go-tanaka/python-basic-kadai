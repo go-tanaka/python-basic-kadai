{
  "nbformat": 4,
  "nbformat_minor": 0,
  "metadata": {
    "colab": {
      "provenance": []
    },
    "kernelspec": {
      "name": "python3",
      "display_name": "Python 3"
    },
    "language_info": {
      "name": "python"
    }
  },
  "cells": [
    {
      "cell_type": "code",
      "execution_count": null,
      "metadata": {
        "id": "-RF3XftIJoYm"
      },
      "outputs": [],
      "source": [
        "# グローバル変数を定義する\n",
        "price1 = 100\n",
        "price2 = 200\n",
        "tax = 1.1    # taxを関数の外で定義\n",
        "\n",
        "# ローカル変数を定義する\n",
        "def total():\n",
        "    return price1 + price2\n",
        "\n",
        "print(total()* tax)"
      ]
    }
  ]
}