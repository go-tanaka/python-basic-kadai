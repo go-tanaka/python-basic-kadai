{
  "nbformat": 4,
  "nbformat_minor": 0,
  "metadata": {
    "colab": {
      "provenance": []
    },
    "kernelspec": {
      "name": "python3",
      "display_name": "Python 3"
    },
    "language_info": {
      "name": "python"
    }
  },
  "cells": [
    {
      "cell_type": "code",
      "execution_count": 1,
      "metadata": {
        "colab": {
          "base_uri": "https://localhost:8080/"
        },
        "id": "TXWZs_hao3Si",
        "outputId": "52fe111f-4101-44e8-d9e8-2b4e4fae6bbc"
      },
      "outputs": [
        {
          "output_type": "stream",
          "name": "stdout",
          "text": [
            "'0': 4 回\n",
            "'1': 4 回\n",
            "'2': 4 回\n",
            "'3': 3 回\n",
            "'4': 3 回\n",
            "'5': 3 回\n",
            "'6': 2 回\n",
            "'7': 2 回\n",
            "'8': 4 回\n",
            "'9': 3 回\n"
          ]
        }
      ],
      "source": [
        "# 数字の文字列　、ここに数えたい数字が入っています。\n",
        "numbers = '12345123009876542102849586783019'\n",
        "\n",
        "# 数字の出現回数を数えるためのリストを作ります。\n",
        "#　リストの長さは１０で、各要素は0にする。このインデックス数字は０から９となります。\n",
        "height = [0] * 10\n",
        "\n",
        "# 文字列の各文字を一つずつ取り出していきます。\n",
        "for num in numbers:\n",
        "    # 文字が数字（'0'から'9の範囲）かどうかを確認します。\n",
        "    if '0' <= num <= '9':\n",
        "        # 数字をリストのインデックスとして使用して出現回数を１増やします。\n",
        "        height[ord(num) - ord('0')] += 1\n",
        "\n",
        "# 結果を表示\n",
        "for i in range(10):\n",
        "    print(f\"'{i}': {height[i]} 回\")"
      ]
    }
  ]
}