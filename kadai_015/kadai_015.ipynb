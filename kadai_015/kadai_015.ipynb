{
  "nbformat": 4,
  "nbformat_minor": 0,
  "metadata": {
    "colab": {
      "provenance": []
    },
    "kernelspec": {
      "name": "python3",
      "display_name": "Python 3"
    },
    "language_info": {
      "name": "python"
    }
  },
  "cells": [
    {
      "cell_type": "code",
      "execution_count": 1,
      "metadata": {
        "id": "JMfwvcuJ1MsT",
        "outputId": "750b879d-480e-410d-e680-95ab130a25cb",
        "colab": {
          "base_uri": "https://localhost:8080/"
        }
      },
      "outputs": [
        {
          "output_type": "stream",
          "name": "stdout",
          "text": [
            "Name: taro, Age: 25, Gender: 男性\n"
          ]
        }
      ],
      "source": [
        "class Human:\n",
        "    # コントラストの定義\n",
        "    def __init__(self, name, age, gender):\n",
        "        self.name = name\n",
        "        self.age = age\n",
        "        self.gender = gender\n",
        "\n",
        "    def printinfo(self):\n",
        "        print(f\"Name: {self.name}, Age: {self.age}, Gender: {self.gender}\")\n",
        "\n",
        "# Humanクラスのインスタンスを作成\n",
        "person = Human(\"taro\", 25, \"男性\")\n",
        "\n",
        "#　printinfoメソッドを使用して情報を出力\n",
        "person.printinfo()"
      ]
    }
  ]
}