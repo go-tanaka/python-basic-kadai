{
  "nbformat": 4,
  "nbformat_minor": 0,
  "metadata": {
    "colab": {
      "provenance": []
    },
    "kernelspec": {
      "name": "python3",
      "display_name": "Python 3"
    },
    "language_info": {
      "name": "python"
    }
  },
  "cells": [
    {
      "cell_type": "code",
      "execution_count": 1,
      "metadata": {
        "colab": {
          "base_uri": "https://localhost:8080/"
        },
        "id": "Vps_Ixzqollo",
        "outputId": "5942f163-2cca-40a2-beab-3bbf2af29f26"
      },
      "outputs": [
        {
          "output_type": "stream",
          "name": "stdout",
          "text": [
            "1370円 (税込 : 1507.0円)\n"
          ]
        }
      ],
      "source": [
        "def total_price(price, tax):\n",
        "    tax = price *0.1 #消費税代入\n",
        "    total_price = price + tax # 合計金額と消費税代入\n",
        "    print(f\"{price}円 (税込 : {total_price}円)\")\n",
        "\n",
        "total_price(1370,10)"
      ]
    },
    {
      "cell_type": "code",
      "source": [
        "#商品を購入して、消費税を加えた計算結果を返す関数\n",
        "def calculate_total_price(price, tax_rate = 0.10):\n",
        "    total_price = price + (price* tax_rate)\n",
        "    return total_price\n",
        "\n",
        "# 使用例\n",
        "product_price = 1350  # 商品価格\n",
        "total_price = calculate_total_price(product_price)\n",
        "print(f\"商品金額: {product_price}円\")\n",
        "print(f\"消費税を含む合計金額: {total_price}\")"
      ],
      "metadata": {
        "colab": {
          "base_uri": "https://localhost:8080/"
        },
        "id": "r29EalO_orff",
        "outputId": "e600612d-40c8-42da-bece-ce474cf98587"
      },
      "execution_count": 2,
      "outputs": [
        {
          "output_type": "stream",
          "name": "stdout",
          "text": [
            "商品金額: 1350円\n",
            "消費税を含む合計金額: 1485.0\n"
          ]
        }
      ]
    },
    {
      "cell_type": "code",
      "source": [],
      "metadata": {
        "id": "CVYsH2yHpHXT"
      },
      "execution_count": null,
      "outputs": []
    }
  ]
}