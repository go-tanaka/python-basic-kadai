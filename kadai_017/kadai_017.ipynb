{
  "nbformat": 4,
  "nbformat_minor": 0,
  "metadata": {
    "colab": {
      "provenance": []
    },
    "kernelspec": {
      "name": "python3",
      "display_name": "Python 3"
    },
    "language_info": {
      "name": "python"
    }
  },
  "cells": [
    {
      "cell_type": "code",
      "execution_count": 1,
      "metadata": {
        "colab": {
          "base_uri": "https://localhost:8080/"
        },
        "id": "m3NUeYFtq_Oo",
        "outputId": "fa1aaae3-b9af-41ec-e77f-b81fb823a86d"
      },
      "outputs": [
        {
          "output_type": "stream",
          "name": "stdout",
          "text": [
            "侍太郎は大人です。\n",
            "侍花子は大人ではありません。\n",
            "侍二郎は大人です。\n",
            "侍三郎は大人ではありません。\n",
            "侍花は大人です。\n"
          ]
        }
      ],
      "source": [
        "# クラスの定義\n",
        "class Human:\n",
        "    def __init__(self, name, age):\n",
        "        self.name = name # インスタンスの名前\n",
        "        self.age = age # インスタンスの年齢\n",
        "\n",
        "    # 大人かどうかをチェックするメソッド\n",
        "    def check_adult(self):\n",
        "        if self.age >= 20:\n",
        "            print(f\"{self.name}は大人です。\") #年齢が２０以上の場合は「大人です」と出力\n",
        "        else:\n",
        "            print(f\"{self.name}は大人ではありません。\") # 年齢が２０未満の場合は「大人ではありません」を出力\n",
        "\n",
        "# Humanクラスのインスタンスを作成してリストに追加\n",
        "people = [Human(\"侍太郎\", 25), Human(\"侍花子\", 18), Human(\"侍二郎\", 20), Human(\"侍三郎\", 15), Human(\"侍花\", 22)]\n",
        "\n",
        "#　リストの要素を呼び出す\n",
        "for person in people:\n",
        "    person.check_adult() # メソッドを呼び出し\n",
        "\n"
      ]
    },
    {
      "cell_type": "code",
      "source": [],
      "metadata": {
        "id": "nRXUXNZ6vIHm"
      },
      "execution_count": null,
      "outputs": []
    }
  ]
}