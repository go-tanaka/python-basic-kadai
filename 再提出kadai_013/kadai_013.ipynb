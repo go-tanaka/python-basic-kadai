{
  "nbformat": 4,
  "nbformat_minor": 0,
  "metadata": {
    "colab": {
      "provenance": []
    },
    "kernelspec": {
      "name": "python3",
      "display_name": "Python 3"
    },
    "language_info": {
      "name": "python"
    }
  },
  "cells": [
    {
      "cell_type": "code",
      "execution_count": 1,
      "metadata": {
        "id": "TDmY3Y4Vx8Ds",
        "outputId": "6d60ced0-da9c-492d-a6e9-ca6bc4066966",
        "colab": {
          "base_uri": "https://localhost:8080/"
        }
      },
      "outputs": [
        {
          "output_type": "stream",
          "name": "stdout",
          "text": [
            "1000円(税込 : 1100.0円)\n"
          ]
        }
      ],
      "source": [
        "def total_price(price, tax_rate = 0.10):\n",
        "    # 与えられた引数priceと消費税を加算し、変数total_priceに代入\n",
        "    total_price = price + (price* tax_rate)\n",
        "\n",
        "    # 変数＄priceの値と税込の値を出力する\n",
        "    print(f\"{price}円(税込 : {total_price}円)\")\n",
        "\n",
        "# 関数を呼び出し、引数として購入金額と送料を渡す\n",
        "total_price(1000, 0.10);"
      ]
    }
  ]
}